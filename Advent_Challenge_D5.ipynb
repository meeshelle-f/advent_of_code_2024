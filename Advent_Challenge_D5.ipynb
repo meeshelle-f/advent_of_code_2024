{
  "cells": [
    {
      "cell_type": "markdown",
      "metadata": {
        "id": "hfHbyGfl01lt"
      },
      "source": [
        "#Day 5 Part 1\n",
        "inputs = d5_input.txt"
      ]
    },
    {
      "cell_type": "markdown",
      "metadata": {
        "id": "L1aQrJ0bah2e"
      },
      "source": [
        "--- Day 5: Print Queue ---\n",
        "Satisfied with their search on Ceres, the squadron of scholars suggests subsequently scanning the stationery stacks of sub-basement 17.\n",
        "\n",
        "The North Pole printing department is busier than ever this close to Christmas, and while The Historians continue their search of this historically significant facility, an Elf operating a very familiar printer beckons you over.\n",
        "\n",
        "The Elf must recognize you, because they waste no time explaining that the new sleigh launch safety manual updates won't print correctly. Failure to update the safety manuals would be dire indeed, so you offer your services.\n",
        "\n",
        "Safety protocols clearly indicate that new pages for the safety manuals must be printed in a very specific order. The notation X|Y means that if both page number X and page number Y are to be produced as part of an update, page number X must be printed at some point before page number Y.\n",
        "\n",
        "The Elf has for you both the page ordering rules and the pages to produce in each update (your puzzle input), but can't figure out whether each update has the pages in the right order."
      ]
    },
    {
      "cell_type": "code",
      "execution_count": null,
      "metadata": {
        "colab": {
          "base_uri": "https://localhost:8080/"
        },
        "id": "S-BRlO_dDiDE",
        "outputId": "6245454c-7b73-4a16-cddd-2dbd131585ab"
      },
      "outputs": [
        {
          "output_type": "stream",
          "name": "stdout",
          "text": [
            "Drive already mounted at /content/drive; to attempt to forcibly remount, call drive.mount(\"/content/drive\", force_remount=True).\n"
          ]
        }
      ],
      "source": [
        "from google.colab import drive\n",
        "drive.mount('/content/drive')\n",
        "\n",
        "file_path = '/content/drive/MyDrive/Advent 2024/day5/d5_input.txt'\n",
        "\n",
        "import numpy as np\n",
        "import pandas as pd"
      ]
    },
    {
      "cell_type": "markdown",
      "metadata": {
        "id": "2YzkqwNScSu-"
      },
      "source": [
        "##example data"
      ]
    },
    {
      "cell_type": "markdown",
      "source": [
        "The first section specifies the **page ordering rules**, one per line. The first rule, 47|53, means that if an update includes both page number 47 and page number 53, then page number 47 must be printed at some point before page number 53. (47 doesn't necessarily need to be immediately before 53; other pages are allowed to be between them.)"
      ],
      "metadata": {
        "id": "VHGoZtqbBW0f"
      }
    },
    {
      "cell_type": "code",
      "execution_count": null,
      "metadata": {
        "id": "YU7sNcd9CjDT",
        "collapsed": true
      },
      "outputs": [],
      "source": [
        "##example data\n",
        "import pandas as pd\n",
        "\n",
        "data_str = \"\"\"47|53\n",
        "97|13\n",
        "97|61\n",
        "97|47\n",
        "75|29\n",
        "61|13\n",
        "75|53\n",
        "29|13\n",
        "97|29\n",
        "53|29\n",
        "61|53\n",
        "97|53\n",
        "61|29\n",
        "47|13\n",
        "75|47\n",
        "97|75\n",
        "47|61\n",
        "75|61\n",
        "47|29\n",
        "75|13\n",
        "53|13\n",
        "\"\"\"\n",
        "\n",
        "pages = \"\"\"75,47,61,53,29\n",
        "97,61,53,29,13\n",
        "75,29,13\n",
        "75,97,47,61,53\n",
        "61,13,29\n",
        "97,13,75,29,47\n",
        "\"\"\""
      ]
    },
    {
      "cell_type": "markdown",
      "source": [
        "The second section specifies the **page numbers of each update**. Because most safety manuals are different, the pages needed in the updates are different too. The first update, 75,47,61,53,29, means that the update consists of page numbers 75, 47, 61, 53, and 29."
      ],
      "metadata": {
        "id": "Xdpu3TqbBa4n"
      }
    },
    {
      "cell_type": "markdown",
      "source": [
        "To get the printers going as soon as possible, **start by identifying which updates are already in the right order.**"
      ],
      "metadata": {
        "id": "cJwRoL9hBtn1"
      }
    },
    {
      "cell_type": "markdown",
      "source": [
        "In the above example, the first update (75,47,61,53,29) is in the right order:\n",
        "\n",
        "75 is correctly first because there are rules that put each other page after it: 75|47, 75|61, 75|53, and 75|29.\n",
        "47 is correctly second because 75 must be before it (75|47) and every other page must be after it according to 47|61, 47|53, and 47|29.\n",
        "61 is correctly in the middle because 75 and 47 are before it (75|61 and 47|61) and 53 and 29 are after it (61|53 and 61|29).\n",
        "53 is correctly fourth because it is before page number 29 (53|29).\n",
        "29 is the only page left and so is correctly last."
      ],
      "metadata": {
        "id": "CJBPXsf8DGsh"
      }
    },
    {
      "cell_type": "code",
      "source": [
        "rules = set()\n",
        "\n",
        "for line in data_str.strip().split('\\n'):\n",
        "  a, b = map(int, line.split('|'))\n",
        "  rules.add((a, b))\n",
        "\n",
        "\n",
        "updates = []\n",
        "for line in pages.strip().split('\\n'):\n",
        "  updates.append([int(x) for x in line.split(',')])\n",
        "\n",
        "#example rules and updates are defined"
      ],
      "metadata": {
        "collapsed": true,
        "id": "-wMrcIcsO7pC"
      },
      "execution_count": null,
      "outputs": []
    },
    {
      "cell_type": "code",
      "source": [
        "print(rules)"
      ],
      "metadata": {
        "colab": {
          "base_uri": "https://localhost:8080/"
        },
        "id": "zIeC9xtMUVbB",
        "outputId": "68107c96-c7c5-4335-e23e-032f6770aaad"
      },
      "execution_count": null,
      "outputs": [
        {
          "output_type": "stream",
          "name": "stdout",
          "text": [
            "{(47, 53), (97, 75), (47, 13), (97, 29), (53, 29), (97, 47), (97, 53), (75, 29), (53, 13), (97, 13), (29, 13), (75, 47), (47, 61), (75, 53), (75, 13), (61, 29), (97, 61), (61, 53), (75, 61), (61, 13), (47, 29)}\n"
          ]
        }
      ]
    },
    {
      "cell_type": "code",
      "source": [
        "print(updates)"
      ],
      "metadata": {
        "colab": {
          "base_uri": "https://localhost:8080/"
        },
        "id": "j7Xqqz1EUUgA",
        "outputId": "409270e6-7bd7-4941-ac6a-03ebcdb31ed1"
      },
      "execution_count": null,
      "outputs": [
        {
          "output_type": "stream",
          "name": "stdout",
          "text": [
            "[[75, 47, 61, 53, 29], [97, 61, 53, 29, 13], [75, 29, 13], [75, 97, 47, 61, 53], [61, 13, 29], [97, 13, 75, 29, 47]]\n"
          ]
        }
      ]
    },
    {
      "cell_type": "markdown",
      "source": [
        "**correct_order(updates, rules)**\n",
        "\n",
        "adds value by value to a set\n",
        "\n",
        "checks each value within the set for pairs (X, Y) that have known rules\n",
        "\n",
        "if known rule is found compare correct (rule) index vs that in list\n",
        "\n",
        "return False if fails index check\n",
        "\n",
        "else return True if none fail\n",
        "\n",
        "\n",
        "**get_middle_value(update)**\n",
        "\n",
        "returns the middle value from a list"
      ],
      "metadata": {
        "id": "0R_6FotiUDK3"
      }
    },
    {
      "cell_type": "code",
      "source": [
        "def correct_order(updates, rules):\n",
        "    seen = set()\n",
        "    for num_val in updates: #add num_val to set\n",
        "        seen.add(num_val)\n",
        "        for a, b in rules:\n",
        "            if a in seen and b in seen: #is (a,b) present?\n",
        "                if updates.index(b) < updates.index(a): #aka is B before A? if so return false\n",
        "                    return False\n",
        "    return True\n",
        "\n",
        "def get_middle_value(update):\n",
        "    return update[len(update) // 2]"
      ],
      "metadata": {
        "id": "XxEWtxwiUC-1"
      },
      "execution_count": null,
      "outputs": []
    },
    {
      "cell_type": "code",
      "source": [
        "def update_order(updates,rules):\n",
        "    seen = set()\n",
        "    all_updated_list_combos = []\n",
        "    for num_val in updates: #add num_val to set\n",
        "        seen.add(num_val)\n",
        "        for a, b in rules:\n",
        "            if a in seen and b in seen: #is (a,b) present?\n",
        "                if updates.index(b) < updates.index(a): #aka is B before A? if so return false\n",
        "                    #new copy each time we encounter a rule\n",
        "                    updates[updates.index(a)], updates[updates.index(b)] = updates[updates.index(b)], updates[updates.index(a)]\n",
        "                    return updates"
      ],
      "metadata": {
        "id": "QIvn_9jflmvx"
      },
      "execution_count": null,
      "outputs": []
    },
    {
      "cell_type": "markdown",
      "source": [
        "part 1 example"
      ],
      "metadata": {
        "id": "6pfE4hcoEzKc"
      }
    },
    {
      "cell_type": "code",
      "source": [
        "total = 0\n",
        "import itertools\n",
        "#part 1 only\n",
        "for update in updates: #go line by line\n",
        "    if correct_order(update, rules): #is line in correct order?\n",
        "        total += get_middle_value(update) #grab middle index\n",
        "print(total) #143"
      ],
      "metadata": {
        "colab": {
          "base_uri": "https://localhost:8080/"
        },
        "id": "AHZvXuAVTq8m",
        "outputId": "4a330257-5516-4d86-ca45-60e7de2ef287",
        "collapsed": true
      },
      "execution_count": null,
      "outputs": [
        {
          "output_type": "stream",
          "name": "stdout",
          "text": [
            "143\n"
          ]
        }
      ]
    },
    {
      "cell_type": "markdown",
      "source": [
        "part 2 example"
      ],
      "metadata": {
        "id": "FP0-KuCoE0Bw"
      }
    },
    {
      "cell_type": "code",
      "source": [
        "total, incorrect_total = 0, 0\n",
        "import itertools\n",
        "\n",
        "for update in updates: #go line by line\n",
        "    if correct_order(update, rules): #is line in correct order?\n",
        "        total += get_middle_value(update) #grab middle index\n",
        "    else:\n",
        "      correct = False\n",
        "      while correct == False:\n",
        "        # print('incorrect update', update)\n",
        "        updated_order = update_order(update,rules)\n",
        "        # print('testing updated order', updated_order)\n",
        "\n",
        "        if correct_order(updated_order, rules):\n",
        "          # print('corrected update', updated_order)\n",
        "\n",
        "          correct =True\n",
        "          incorrect_total += get_middle_value(updated_order) #grab middle index\n",
        "\n",
        "print(total, incorrect_total) #143"
      ],
      "metadata": {
        "id": "QFefm3q0DYx1",
        "outputId": "7ec031e7-7906-4574-f442-e50581946a6e",
        "colab": {
          "base_uri": "https://localhost:8080/"
        }
      },
      "execution_count": null,
      "outputs": [
        {
          "output_type": "stream",
          "name": "stdout",
          "text": [
            "incorrect update [75, 97, 47, 61, 53]\n",
            "testing updated order [97, 75, 47, 61, 53]\n",
            "corrected update [97, 75, 47, 61, 53]\n",
            "incorrect update [61, 13, 29]\n",
            "testing updated order [61, 29, 13]\n",
            "corrected update [61, 29, 13]\n",
            "incorrect update [97, 13, 75, 29, 47]\n",
            "testing updated order [97, 75, 13, 29, 47]\n",
            "incorrect update [97, 75, 13, 29, 47]\n",
            "testing updated order [97, 75, 29, 13, 47]\n",
            "incorrect update [97, 75, 29, 13, 47]\n",
            "testing updated order [97, 75, 29, 47, 13]\n",
            "incorrect update [97, 75, 29, 47, 13]\n",
            "testing updated order [97, 75, 47, 29, 13]\n",
            "corrected update [97, 75, 47, 29, 13]\n",
            "143 123\n"
          ]
        }
      ]
    },
    {
      "cell_type": "markdown",
      "source": [
        "part 1 real"
      ],
      "metadata": {
        "id": "7oHR0fARE8dH"
      }
    },
    {
      "cell_type": "code",
      "source": [
        "updates, rules = [], set()\n",
        "\n",
        "for line in open(file_path):\n",
        "    line = line.strip()\n",
        "\n",
        "    if ',' in line: #is update\n",
        "        updates.append([int(x) for x in line.split(',')])\n",
        "\n",
        "    if '|' in line: #is rule\n",
        "        a, b = map(int, line.split('|'))\n",
        "        rules.add((a, b))\n",
        "\n",
        "total = 0\n",
        "import itertools\n",
        "#part 1 only\n",
        "for update in updates: #go line by line\n",
        "    if correct_order(update, rules): #is line in correct order?\n",
        "        total += get_middle_value(update) #grab middle index\n",
        "print(total) #4814\n"
      ],
      "metadata": {
        "colab": {
          "base_uri": "https://localhost:8080/"
        },
        "id": "H2Ha0jtxQtQL",
        "outputId": "82f6a9a6-f87c-4100-ed6e-9dd32a524f65",
        "collapsed": true
      },
      "execution_count": null,
      "outputs": [
        {
          "output_type": "stream",
          "name": "stdout",
          "text": [
            "4814\n"
          ]
        }
      ]
    },
    {
      "cell_type": "markdown",
      "source": [
        "part 2 example"
      ],
      "metadata": {
        "id": "W99vAbRgE_dt"
      }
    },
    {
      "cell_type": "markdown",
      "source": [
        "--- Part Two ---\n",
        "While the Elves get to work printing the correctly-ordered updates, you have a little time to fix the rest of them.\n",
        "\n",
        "**For each of the incorrectly-ordered updates**, use the page ordering rules to put the page numbers in the right order. For the above example, here are the three incorrectly-ordered updates and their correct orderings:\n",
        "\n",
        "75,97,47,61,53 becomes 97,75,47,61,53.\n",
        "61,13,29 becomes 61,29,13.\n",
        "97,13,75,29,47 becomes 97,75,47,29,13.\n",
        "After taking only the incorrectly-ordered updates and ordering them correctly, their middle page numbers are 47, 29, and 47. Adding these together produces 123.\n",
        "\n",
        "Find the updates which are not in the correct order. What do you get if you add up the middle page numbers after correctly ordering just those updates?"
      ],
      "metadata": {
        "id": "hoAiMDvgyKwL"
      }
    },
    {
      "cell_type": "code",
      "source": [
        "updates, rules = [], set()\n",
        "\n",
        "for line in open(file_path):\n",
        "    line = line.strip()\n",
        "\n",
        "    if ',' in line: #is update\n",
        "        updates.append([int(x) for x in line.split(',')])\n",
        "\n",
        "    if '|' in line: #is rule\n",
        "        a, b = map(int, line.split('|'))\n",
        "        rules.add((a, b))\n",
        "\n",
        "\n",
        "\n",
        "total, incorrect_total = 0, 0\n",
        "import itertools\n",
        "\n",
        "for update in updates: #go line by line\n",
        "    if correct_order(update, rules): #is line in correct order?\n",
        "        total += get_middle_value(update) #grab middle index\n",
        "    else:\n",
        "      correct = False\n",
        "      while correct == False:\n",
        "        # print('incorrect update', update)\n",
        "        updated_order = update_order(update,rules)\n",
        "        # print('testing updated order', updated_order)\n",
        "\n",
        "        if correct_order(updated_order, rules):\n",
        "          # print('corrected update', updated_order)\n",
        "\n",
        "          correct =True\n",
        "          incorrect_total += get_middle_value(updated_order) #grab middle index\n",
        "\n",
        "print(total, incorrect_total) #4814 5448"
      ],
      "metadata": {
        "id": "G2qKiwSClQgZ",
        "outputId": "cbc5d7b2-a705-4598-adbc-c2e6ecd56065",
        "colab": {
          "base_uri": "https://localhost:8080/"
        }
      },
      "execution_count": null,
      "outputs": [
        {
          "output_type": "stream",
          "name": "stdout",
          "text": [
            "4814 5448\n"
          ]
        }
      ]
    }
  ],
  "metadata": {
    "colab": {
      "provenance": []
    },
    "kernelspec": {
      "display_name": "Python 3",
      "name": "python3"
    },
    "language_info": {
      "name": "python"
    }
  },
  "nbformat": 4,
  "nbformat_minor": 0
}